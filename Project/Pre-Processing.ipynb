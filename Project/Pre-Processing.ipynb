{
 "cells": [
  {
   "cell_type": "markdown",
   "metadata": {
    "colab_type": "text",
    "id": "6q5ud_OdzzKC"
   },
   "source": [
    "<a id = Section2></a>\n",
    "\n",
    "---\n",
    "## Data Pre-Processing\n",
    "---"
   ]
  },
  {
   "cell_type": "markdown",
   "metadata": {},
   "source": [
    "### **1.1 Importing Libraries**"
   ]
  },
  {
   "cell_type": "code",
   "execution_count": 1,
   "metadata": {},
   "outputs": [],
   "source": [
    "import numpy as np\n",
    "import pandas as pd\n",
    "import os\n",
    "from pandas_profiling import ProfileReport\n",
    "\n",
    "pd.set_option('display.max_columns', None)\n",
    "pd.set_option('display.max_colwidth', None)\n",
    "pd.set_option('display.max_rows', None)\n",
    "pd.set_option('mode.chained_assignment', None)"
   ]
  },
  {
   "cell_type": "markdown",
   "metadata": {},
   "source": [
    "### **1.2 Import employee_data, employee_details_data and department_data and validate**"
   ]
  },
  {
   "cell_type": "code",
   "execution_count": 2,
   "metadata": {},
   "outputs": [],
   "source": [
    "path = os.getcwd()\n",
    "\n",
    "employee = pd.read_csv(path + '\\\\employee_data.csv', index_col='employee_id')\n",
    "department = pd.read_csv(path + '\\\\department_data.csv', index_col='dept_id')\n",
    "employee_details= pd.read_csv(path + '\\\\employee_details_data.csv', index_col='employee_id')"
   ]
  },
  {
   "cell_type": "markdown",
   "metadata": {},
   "source": [
    "**Check shape of tables**"
   ]
  },
  {
   "cell_type": "code",
   "execution_count": 3,
   "metadata": {},
   "outputs": [
    {
     "name": "stdout",
     "output_type": "stream",
     "text": [
      "department_data: (11, 2)\n",
      "employee_data: (14150, 10)\n",
      "employee_details_data: (14245, 3)\n"
     ]
    }
   ],
   "source": [
    "print('department_data:', department.shape)\n",
    "print('employee_data:', employee.shape)\n",
    "print('employee_details_data:', employee_details.shape)"
   ]
  },
  {
   "cell_type": "markdown",
   "metadata": {},
   "source": [
    "### **1.3 Merge employee_data, employee_details_data and department_data in single file**"
   ]
  },
  {
   "cell_type": "markdown",
   "metadata": {},
   "source": [
    "#### 1.3.1 Check data quality for index cols in department"
   ]
  },
  {
   "cell_type": "code",
   "execution_count": 4,
   "metadata": {},
   "outputs": [
    {
     "data": {
      "text/plain": [
       "D00-SS     3905\n",
       "D00-ENG    2575\n",
       "D00-SP     2113\n",
       "D00-IT     1157\n",
       "D00-PD      855\n",
       "D00-MT      815\n",
       "D00-FN      725\n",
       "D00-MN      593\n",
       "-IT         207\n",
       "D00-AD      175\n",
       "D00-PR      173\n",
       "D00-TP      150\n",
       "Name: department, dtype: int64"
      ]
     },
     "execution_count": 4,
     "metadata": {},
     "output_type": "execute_result"
    }
   ],
   "source": [
    "employee['department'].value_counts()"
   ]
  },
  {
   "cell_type": "markdown",
   "metadata": {},
   "source": [
    "**Observation**\n",
    "- We can see the '-IT' is incorrect and needs to be replaced with 'D00-IT'"
   ]
  },
  {
   "cell_type": "code",
   "execution_count": 5,
   "metadata": {},
   "outputs": [],
   "source": [
    "employee['department'].replace(to_replace='-IT', value='D00-IT', inplace=True )"
   ]
  },
  {
   "cell_type": "markdown",
   "metadata": {},
   "source": [
    "**After correcting employee['department'] values**"
   ]
  },
  {
   "cell_type": "code",
   "execution_count": 6,
   "metadata": {},
   "outputs": [
    {
     "data": {
      "text/plain": [
       "D00-SS     3905\n",
       "D00-ENG    2575\n",
       "D00-SP     2113\n",
       "D00-IT     1364\n",
       "D00-PD      855\n",
       "D00-MT      815\n",
       "D00-FN      725\n",
       "D00-MN      593\n",
       "D00-AD      175\n",
       "D00-PR      173\n",
       "D00-TP      150\n",
       "Name: department, dtype: int64"
      ]
     },
     "execution_count": 6,
     "metadata": {},
     "output_type": "execute_result"
    }
   ],
   "source": [
    "employee['department'].value_counts()"
   ]
  },
  {
   "cell_type": "markdown",
   "metadata": {},
   "source": [
    "**Merge employee_data and employee_det with employee_id as index value** "
   ]
  },
  {
   "cell_type": "code",
   "execution_count": 7,
   "metadata": {},
   "outputs": [],
   "source": [
    "data = employee.join(employee_details).reset_index()"
   ]
  },
  {
   "cell_type": "markdown",
   "metadata": {},
   "source": [
    "**Rename department to dept_id to sync with col name in department and merge with department**"
   ]
  },
  {
   "cell_type": "code",
   "execution_count": 8,
   "metadata": {},
   "outputs": [],
   "source": [
    "data = data.rename(columns={'department':'dept_id'}).set_index('dept_id')\n",
    "data = data.join(department).reset_index()"
   ]
  },
  {
   "cell_type": "markdown",
   "metadata": {},
   "source": [
    "**Validate merge**"
   ]
  },
  {
   "cell_type": "code",
   "execution_count": 9,
   "metadata": {},
   "outputs": [
    {
     "data": {
      "text/plain": [
       "(14150, 16)"
      ]
     },
     "execution_count": 9,
     "metadata": {},
     "output_type": "execute_result"
    }
   ],
   "source": [
    "data.shape"
   ]
  },
  {
   "cell_type": "code",
   "execution_count": 10,
   "metadata": {},
   "outputs": [
    {
     "data": {
      "text/html": [
       "<div>\n",
       "<style scoped>\n",
       "    .dataframe tbody tr th:only-of-type {\n",
       "        vertical-align: middle;\n",
       "    }\n",
       "\n",
       "    .dataframe tbody tr th {\n",
       "        vertical-align: top;\n",
       "    }\n",
       "\n",
       "    .dataframe thead th {\n",
       "        text-align: right;\n",
       "    }\n",
       "</style>\n",
       "<table border=\"1\" class=\"dataframe\">\n",
       "  <thead>\n",
       "    <tr style=\"text-align: right;\">\n",
       "      <th></th>\n",
       "      <th>dept_id</th>\n",
       "      <th>employee_id</th>\n",
       "      <th>avg_monthly_hrs</th>\n",
       "      <th>filed_complaint</th>\n",
       "      <th>last_evaluation</th>\n",
       "      <th>n_projects</th>\n",
       "      <th>recently_promoted</th>\n",
       "      <th>salary</th>\n",
       "      <th>satisfaction</th>\n",
       "      <th>status</th>\n",
       "      <th>tenure</th>\n",
       "      <th>age</th>\n",
       "      <th>gender</th>\n",
       "      <th>marital_status</th>\n",
       "      <th>dept_name</th>\n",
       "      <th>dept_head</th>\n",
       "    </tr>\n",
       "  </thead>\n",
       "  <tbody>\n",
       "    <tr>\n",
       "      <th>0</th>\n",
       "      <td>D00-AD</td>\n",
       "      <td>100360</td>\n",
       "      <td>274.0</td>\n",
       "      <td>NaN</td>\n",
       "      <td>0.810377</td>\n",
       "      <td>4</td>\n",
       "      <td>NaN</td>\n",
       "      <td>high</td>\n",
       "      <td>0.872978</td>\n",
       "      <td>Employed</td>\n",
       "      <td>3.0</td>\n",
       "      <td>41.0</td>\n",
       "      <td>Female</td>\n",
       "      <td>Married</td>\n",
       "      <td>Admin</td>\n",
       "      <td>Evelyn Tolson</td>\n",
       "    </tr>\n",
       "    <tr>\n",
       "      <th>1</th>\n",
       "      <td>D00-AD</td>\n",
       "      <td>100852</td>\n",
       "      <td>260.0</td>\n",
       "      <td>NaN</td>\n",
       "      <td>0.955429</td>\n",
       "      <td>4</td>\n",
       "      <td>NaN</td>\n",
       "      <td>low</td>\n",
       "      <td>0.615781</td>\n",
       "      <td>Employed</td>\n",
       "      <td>4.0</td>\n",
       "      <td>46.0</td>\n",
       "      <td>Male</td>\n",
       "      <td>Married</td>\n",
       "      <td>Admin</td>\n",
       "      <td>Evelyn Tolson</td>\n",
       "    </tr>\n",
       "    <tr>\n",
       "      <th>2</th>\n",
       "      <td>D00-AD</td>\n",
       "      <td>100876</td>\n",
       "      <td>254.0</td>\n",
       "      <td>1.0</td>\n",
       "      <td>0.971611</td>\n",
       "      <td>7</td>\n",
       "      <td>NaN</td>\n",
       "      <td>medium</td>\n",
       "      <td>0.155280</td>\n",
       "      <td>Left</td>\n",
       "      <td>4.0</td>\n",
       "      <td>45.0</td>\n",
       "      <td>Male</td>\n",
       "      <td>Married</td>\n",
       "      <td>Admin</td>\n",
       "      <td>Evelyn Tolson</td>\n",
       "    </tr>\n",
       "    <tr>\n",
       "      <th>3</th>\n",
       "      <td>D00-AD</td>\n",
       "      <td>100909</td>\n",
       "      <td>151.0</td>\n",
       "      <td>NaN</td>\n",
       "      <td>0.974578</td>\n",
       "      <td>5</td>\n",
       "      <td>NaN</td>\n",
       "      <td>medium</td>\n",
       "      <td>0.873819</td>\n",
       "      <td>Employed</td>\n",
       "      <td>3.0</td>\n",
       "      <td>46.0</td>\n",
       "      <td>Female</td>\n",
       "      <td>Married</td>\n",
       "      <td>Admin</td>\n",
       "      <td>Evelyn Tolson</td>\n",
       "    </tr>\n",
       "    <tr>\n",
       "      <th>4</th>\n",
       "      <td>D00-AD</td>\n",
       "      <td>101075</td>\n",
       "      <td>236.0</td>\n",
       "      <td>NaN</td>\n",
       "      <td>0.451697</td>\n",
       "      <td>3</td>\n",
       "      <td>NaN</td>\n",
       "      <td>medium</td>\n",
       "      <td>0.370081</td>\n",
       "      <td>Employed</td>\n",
       "      <td>2.0</td>\n",
       "      <td>24.0</td>\n",
       "      <td>Male</td>\n",
       "      <td>Unmarried</td>\n",
       "      <td>Admin</td>\n",
       "      <td>Evelyn Tolson</td>\n",
       "    </tr>\n",
       "  </tbody>\n",
       "</table>\n",
       "</div>"
      ],
      "text/plain": [
       "  dept_id  employee_id  avg_monthly_hrs  filed_complaint  last_evaluation  \\\n",
       "0  D00-AD       100360            274.0              NaN         0.810377   \n",
       "1  D00-AD       100852            260.0              NaN         0.955429   \n",
       "2  D00-AD       100876            254.0              1.0         0.971611   \n",
       "3  D00-AD       100909            151.0              NaN         0.974578   \n",
       "4  D00-AD       101075            236.0              NaN         0.451697   \n",
       "\n",
       "   n_projects  recently_promoted  salary  satisfaction    status  tenure  \\\n",
       "0           4                NaN    high      0.872978  Employed     3.0   \n",
       "1           4                NaN     low      0.615781  Employed     4.0   \n",
       "2           7                NaN  medium      0.155280      Left     4.0   \n",
       "3           5                NaN  medium      0.873819  Employed     3.0   \n",
       "4           3                NaN  medium      0.370081  Employed     2.0   \n",
       "\n",
       "    age  gender marital_status dept_name      dept_head  \n",
       "0  41.0  Female        Married     Admin  Evelyn Tolson  \n",
       "1  46.0    Male        Married     Admin  Evelyn Tolson  \n",
       "2  45.0    Male        Married     Admin  Evelyn Tolson  \n",
       "3  46.0  Female        Married     Admin  Evelyn Tolson  \n",
       "4  24.0    Male      Unmarried     Admin  Evelyn Tolson  "
      ]
     },
     "execution_count": 10,
     "metadata": {},
     "output_type": "execute_result"
    }
   ],
   "source": [
    "data.head()"
   ]
  },
  {
   "cell_type": "markdown",
   "metadata": {},
   "source": [
    "#### 1.3.2 Create copy of data"
   ]
  },
  {
   "cell_type": "code",
   "execution_count": 11,
   "metadata": {},
   "outputs": [],
   "source": [
    "data_backup = data.copy()"
   ]
  },
  {
   "cell_type": "code",
   "execution_count": 12,
   "metadata": {},
   "outputs": [
    {
     "data": {
      "text/html": [
       "<div>\n",
       "<style scoped>\n",
       "    .dataframe tbody tr th:only-of-type {\n",
       "        vertical-align: middle;\n",
       "    }\n",
       "\n",
       "    .dataframe tbody tr th {\n",
       "        vertical-align: top;\n",
       "    }\n",
       "\n",
       "    .dataframe thead th {\n",
       "        text-align: right;\n",
       "    }\n",
       "</style>\n",
       "<table border=\"1\" class=\"dataframe\">\n",
       "  <thead>\n",
       "    <tr style=\"text-align: right;\">\n",
       "      <th></th>\n",
       "      <th>dept_id</th>\n",
       "      <th>employee_id</th>\n",
       "      <th>avg_monthly_hrs</th>\n",
       "      <th>filed_complaint</th>\n",
       "      <th>last_evaluation</th>\n",
       "      <th>n_projects</th>\n",
       "      <th>recently_promoted</th>\n",
       "      <th>salary</th>\n",
       "      <th>satisfaction</th>\n",
       "      <th>status</th>\n",
       "      <th>tenure</th>\n",
       "      <th>age</th>\n",
       "      <th>gender</th>\n",
       "      <th>marital_status</th>\n",
       "      <th>dept_name</th>\n",
       "      <th>dept_head</th>\n",
       "    </tr>\n",
       "  </thead>\n",
       "  <tbody>\n",
       "    <tr>\n",
       "      <th>14145</th>\n",
       "      <td>NaN</td>\n",
       "      <td>145459</td>\n",
       "      <td>154.0</td>\n",
       "      <td>NaN</td>\n",
       "      <td>0.938456</td>\n",
       "      <td>5</td>\n",
       "      <td>NaN</td>\n",
       "      <td>low</td>\n",
       "      <td>0.765289</td>\n",
       "      <td>Employed</td>\n",
       "      <td>4.0</td>\n",
       "      <td>42.0</td>\n",
       "      <td>Male</td>\n",
       "      <td>Married</td>\n",
       "      <td>NaN</td>\n",
       "      <td>NaN</td>\n",
       "    </tr>\n",
       "    <tr>\n",
       "      <th>14146</th>\n",
       "      <td>NaN</td>\n",
       "      <td>146223</td>\n",
       "      <td>181.0</td>\n",
       "      <td>NaN</td>\n",
       "      <td>NaN</td>\n",
       "      <td>3</td>\n",
       "      <td>NaN</td>\n",
       "      <td>low</td>\n",
       "      <td>0.843747</td>\n",
       "      <td>Employed</td>\n",
       "      <td>3.0</td>\n",
       "      <td>28.0</td>\n",
       "      <td>Female</td>\n",
       "      <td>Unmarried</td>\n",
       "      <td>NaN</td>\n",
       "      <td>NaN</td>\n",
       "    </tr>\n",
       "    <tr>\n",
       "      <th>14147</th>\n",
       "      <td>NaN</td>\n",
       "      <td>147123</td>\n",
       "      <td>242.0</td>\n",
       "      <td>1.0</td>\n",
       "      <td>0.775716</td>\n",
       "      <td>4</td>\n",
       "      <td>NaN</td>\n",
       "      <td>medium</td>\n",
       "      <td>0.870238</td>\n",
       "      <td>Employed</td>\n",
       "      <td>3.0</td>\n",
       "      <td>42.0</td>\n",
       "      <td>Male</td>\n",
       "      <td>Married</td>\n",
       "      <td>NaN</td>\n",
       "      <td>NaN</td>\n",
       "    </tr>\n",
       "    <tr>\n",
       "      <th>14148</th>\n",
       "      <td>NaN</td>\n",
       "      <td>147235</td>\n",
       "      <td>155.0</td>\n",
       "      <td>NaN</td>\n",
       "      <td>0.643488</td>\n",
       "      <td>4</td>\n",
       "      <td>NaN</td>\n",
       "      <td>high</td>\n",
       "      <td>0.811090</td>\n",
       "      <td>Employed</td>\n",
       "      <td>4.0</td>\n",
       "      <td>33.0</td>\n",
       "      <td>Male</td>\n",
       "      <td>Married</td>\n",
       "      <td>NaN</td>\n",
       "      <td>NaN</td>\n",
       "    </tr>\n",
       "    <tr>\n",
       "      <th>14149</th>\n",
       "      <td>NaN</td>\n",
       "      <td>148877</td>\n",
       "      <td>136.0</td>\n",
       "      <td>NaN</td>\n",
       "      <td>0.692963</td>\n",
       "      <td>3</td>\n",
       "      <td>NaN</td>\n",
       "      <td>high</td>\n",
       "      <td>0.792814</td>\n",
       "      <td>Employed</td>\n",
       "      <td>2.0</td>\n",
       "      <td>25.0</td>\n",
       "      <td>Male</td>\n",
       "      <td>Unmarried</td>\n",
       "      <td>NaN</td>\n",
       "      <td>NaN</td>\n",
       "    </tr>\n",
       "  </tbody>\n",
       "</table>\n",
       "</div>"
      ],
      "text/plain": [
       "      dept_id  employee_id  avg_monthly_hrs  filed_complaint  last_evaluation  \\\n",
       "14145     NaN       145459            154.0              NaN         0.938456   \n",
       "14146     NaN       146223            181.0              NaN              NaN   \n",
       "14147     NaN       147123            242.0              1.0         0.775716   \n",
       "14148     NaN       147235            155.0              NaN         0.643488   \n",
       "14149     NaN       148877            136.0              NaN         0.692963   \n",
       "\n",
       "       n_projects  recently_promoted  salary  satisfaction    status  tenure  \\\n",
       "14145           5                NaN     low      0.765289  Employed     4.0   \n",
       "14146           3                NaN     low      0.843747  Employed     3.0   \n",
       "14147           4                NaN  medium      0.870238  Employed     3.0   \n",
       "14148           4                NaN    high      0.811090  Employed     4.0   \n",
       "14149           3                NaN    high      0.792814  Employed     2.0   \n",
       "\n",
       "        age  gender marital_status dept_name dept_head  \n",
       "14145  42.0    Male        Married       NaN       NaN  \n",
       "14146  28.0  Female      Unmarried       NaN       NaN  \n",
       "14147  42.0    Male        Married       NaN       NaN  \n",
       "14148  33.0    Male        Married       NaN       NaN  \n",
       "14149  25.0    Male      Unmarried       NaN       NaN  "
      ]
     },
     "execution_count": 12,
     "metadata": {},
     "output_type": "execute_result"
    }
   ],
   "source": [
    "data_backup.tail()"
   ]
  },
  {
   "cell_type": "markdown",
   "metadata": {
    "colab_type": "text",
    "id": "w4DilaKOzzKD"
   },
   "source": [
    "### **2.1 Identification & Handling of Missing Data**"
   ]
  },
  {
   "cell_type": "markdown",
   "metadata": {
    "colab_type": "text",
    "id": "_uJGe8LFzzKD"
   },
   "source": [
    "**Before Handling Null Data**"
   ]
  },
  {
   "cell_type": "code",
   "execution_count": 13,
   "metadata": {
    "colab": {
     "base_uri": "https://localhost:8080/",
     "height": 107
    },
    "colab_type": "code",
    "id": "KV2I-_TxzzKE",
    "outputId": "8f2b16ba-4cf6-47e1-baa7-bb523c152e44"
   },
   "outputs": [
    {
     "data": {
      "text/html": [
       "<div>\n",
       "<style scoped>\n",
       "    .dataframe tbody tr th:only-of-type {\n",
       "        vertical-align: middle;\n",
       "    }\n",
       "\n",
       "    .dataframe tbody tr th {\n",
       "        vertical-align: top;\n",
       "    }\n",
       "\n",
       "    .dataframe thead th {\n",
       "        text-align: right;\n",
       "    }\n",
       "</style>\n",
       "<table border=\"1\" class=\"dataframe\">\n",
       "  <thead>\n",
       "    <tr style=\"text-align: right;\">\n",
       "      <th></th>\n",
       "      <th>dept_id</th>\n",
       "      <th>filed_complaint</th>\n",
       "      <th>last_evaluation</th>\n",
       "      <th>recently_promoted</th>\n",
       "      <th>satisfaction</th>\n",
       "      <th>tenure</th>\n",
       "      <th>age</th>\n",
       "      <th>gender</th>\n",
       "      <th>marital_status</th>\n",
       "      <th>dept_name</th>\n",
       "      <th>dept_head</th>\n",
       "    </tr>\n",
       "  </thead>\n",
       "  <tbody>\n",
       "    <tr>\n",
       "      <th>Null Frequency</th>\n",
       "      <td>707.0</td>\n",
       "      <td>12104.00</td>\n",
       "      <td>1487.00</td>\n",
       "      <td>13853.0</td>\n",
       "      <td>150.00</td>\n",
       "      <td>150.00</td>\n",
       "      <td>5.00</td>\n",
       "      <td>5.00</td>\n",
       "      <td>5.00</td>\n",
       "      <td>707.0</td>\n",
       "      <td>707.0</td>\n",
       "    </tr>\n",
       "    <tr>\n",
       "      <th>Missing %age</th>\n",
       "      <td>5.0</td>\n",
       "      <td>85.54</td>\n",
       "      <td>10.51</td>\n",
       "      <td>97.9</td>\n",
       "      <td>1.06</td>\n",
       "      <td>1.06</td>\n",
       "      <td>0.04</td>\n",
       "      <td>0.04</td>\n",
       "      <td>0.04</td>\n",
       "      <td>5.0</td>\n",
       "      <td>5.0</td>\n",
       "    </tr>\n",
       "  </tbody>\n",
       "</table>\n",
       "</div>"
      ],
      "text/plain": [
       "                dept_id  filed_complaint  last_evaluation  recently_promoted  \\\n",
       "Null Frequency    707.0         12104.00          1487.00            13853.0   \n",
       "Missing %age        5.0            85.54            10.51               97.9   \n",
       "\n",
       "                satisfaction  tenure   age  gender  marital_status  dept_name  \\\n",
       "Null Frequency        150.00  150.00  5.00    5.00            5.00      707.0   \n",
       "Missing %age            1.06    1.06  0.04    0.04            0.04        5.0   \n",
       "\n",
       "                dept_head  \n",
       "Null Frequency      707.0  \n",
       "Missing %age          5.0  "
      ]
     },
     "execution_count": 13,
     "metadata": {},
     "output_type": "execute_result"
    }
   ],
   "source": [
    "null_frame = pd.DataFrame(index = data.columns.values)\n",
    "null_frame['Null Frequency'] = data.isnull().sum().values\n",
    "percent = data.isnull().sum().values/data.shape[0]\n",
    "null_frame['Missing %age'] = np.round(percent, decimals = 4) * 100\n",
    "null_frame[null_frame['Null Frequency']>0].transpose()"
   ]
  },
  {
   "cell_type": "markdown",
   "metadata": {
    "colab_type": "text",
    "id": "O8PjyjPLzzKI"
   },
   "source": [
    "**Observation:**\n",
    "\n",
    "- **dept_id, dept_name and dept_head**: Drop dept_id and dept_head as they giving same information; Change NaN to Others &rarr; Action Required later\n",
    "- **filed_complaint**: Missing Information (12080) &rarr; Replace with- 0.\n",
    "- **recently_promoted**: Missing Informa tion (13824) &rarr; Replace with- 0.\n",
    "- **last_evaluation**: Missing Information (1487) &rarr; Replace with- Median value.\n",
    "- **satisfaction**: Missing Information (150) &rarr; Replace with- Median value.\n",
    "- **age**: Missing Informa tion (5) &rarr; Replace with- Median value.\n",
    "- **gender**: Missing Information (5) &rarr; Replace with- Mode.\n",
    "- **marital_status**: Missing Informa tion (5) &rarr; Replace with- Mode.\n",
    "- **tenure**: Missing Information (150) &rarr; Action Required."
   ]
  },
  {
   "cell_type": "markdown",
   "metadata": {
    "colab_type": "text",
    "id": "bA6IXEdKzzKI"
   },
   "source": [
    "**Performing Operations**"
   ]
  },
  {
   "cell_type": "code",
   "execution_count": 14,
   "metadata": {
    "colab": {},
    "colab_type": "code",
    "id": "jya0GCT9zzKJ"
   },
   "outputs": [],
   "source": [
    "data.drop(columns=['dept_id','dept_head','employee_id'], inplace=True)"
   ]
  },
  {
   "cell_type": "code",
   "execution_count": 15,
   "metadata": {
    "colab": {},
    "colab_type": "code",
    "id": "o_V8Vsv4zzKM"
   },
   "outputs": [],
   "source": [
    "# replace filed_comlaint and recently_promoted with '0'\n",
    "data['filed_complaint'] = data['filed_complaint'].fillna(0)\n",
    "data['recently_promoted'] = data['recently_promoted'].fillna(0)\n",
    "\n",
    "# replace dept_name with 'Other'\n",
    "data['dept_name'] = data['dept_name'].fillna('Other')\n",
    "\n",
    "# replace age, last_evaluation, satisfaction with their 'Mean'\n",
    "data['age'] = data['age'].fillna(data['age'].mean())\n",
    "data['last_evaluation'] = data['last_evaluation'].fillna(data['last_evaluation'].mean())\n",
    "data['satisfaction'] = data['satisfaction'].fillna(data['satisfaction'].mean())\n",
    "\n",
    "# replace gender, tenure and marital_status with 'Mode'\n",
    "data['gender'] = data['gender'].fillna(data['gender'].mode()[0])\n",
    "data['tenure'] = data['tenure'].fillna(data['tenure'].mode()[0])\n",
    "data['marital_status'] = data['marital_status'].fillna(data['marital_status'].mode()[0])"
   ]
  },
  {
   "cell_type": "code",
   "execution_count": 16,
   "metadata": {
    "colab": {
     "base_uri": "https://localhost:8080/",
     "height": 91
    },
    "colab_type": "code",
    "id": "FR6ovh_nARbc",
    "outputId": "dd4d6ea8-1a54-4a6c-f8d8-8ac03f6b8aa8"
   },
   "outputs": [
    {
     "data": {
      "text/html": [
       "<div>\n",
       "<style scoped>\n",
       "    .dataframe tbody tr th:only-of-type {\n",
       "        vertical-align: middle;\n",
       "    }\n",
       "\n",
       "    .dataframe tbody tr th {\n",
       "        vertical-align: top;\n",
       "    }\n",
       "\n",
       "    .dataframe thead th {\n",
       "        text-align: right;\n",
       "    }\n",
       "</style>\n",
       "<table border=\"1\" class=\"dataframe\">\n",
       "  <thead>\n",
       "    <tr style=\"text-align: right;\">\n",
       "      <th></th>\n",
       "    </tr>\n",
       "  </thead>\n",
       "  <tbody>\n",
       "    <tr>\n",
       "      <th>Null Frequency</th>\n",
       "    </tr>\n",
       "    <tr>\n",
       "      <th>Missing %age</th>\n",
       "    </tr>\n",
       "  </tbody>\n",
       "</table>\n",
       "</div>"
      ],
      "text/plain": [
       "Empty DataFrame\n",
       "Columns: []\n",
       "Index: [Null Frequency, Missing %age]"
      ]
     },
     "execution_count": 16,
     "metadata": {},
     "output_type": "execute_result"
    }
   ],
   "source": [
    "null_frame = pd.DataFrame(index = data.columns.values)\n",
    "null_frame['Null Frequency'] = data.isnull().sum().values\n",
    "percent = data.isnull().sum().values/data.shape[0]\n",
    "null_frame['Missing %age'] = np.round(percent, decimals = 4) * 100\n",
    "null_frame[null_frame['Null Frequency']>0].transpose()"
   ]
  },
  {
   "cell_type": "markdown",
   "metadata": {
    "colab_type": "text",
    "id": "FZ_jI7q3zzKS"
   },
   "source": [
    "### **2.2 Identification & Handling of Redundant Data**\n",
    "- In this section **we will identify redundant rows and columns** in our data if present."
   ]
  },
  {
   "cell_type": "markdown",
   "metadata": {
    "colab_type": "text",
    "id": "CtGN2BXYzzKS"
   },
   "source": [
    "#### **2.2.1 Identfication & Handling of Redundant Rows**"
   ]
  },
  {
   "cell_type": "markdown",
   "metadata": {
    "colab_type": "text",
    "id": "OfkQjUjXzzKT"
   },
   "source": [
    "**Before Handling Duplicate Rows**"
   ]
  },
  {
   "cell_type": "code",
   "execution_count": 17,
   "metadata": {
    "colab": {
     "base_uri": "https://localhost:8080/",
     "height": 52
    },
    "colab_type": "code",
    "id": "-f0islMrzzKT",
    "outputId": "8cee04e6-d986-43b1-c682-b28cd118fe91"
   },
   "outputs": [
    {
     "name": "stdout",
     "output_type": "stream",
     "text": [
      "Contains Redundant Records?: True\n",
      "Duplicate Count: 29\n"
     ]
    }
   ],
   "source": [
    "print('Contains Redundant Records?:', data.duplicated().any())\n",
    "print('Duplicate Count:', data.duplicated().sum())"
   ]
  },
  {
   "cell_type": "markdown",
   "metadata": {
    "colab_type": "text",
    "id": "Uz2RLtmdzzKZ"
   },
   "source": [
    "**Observation:**\n",
    "\n",
    "- We can see that **there are redundant records present** in the data"
   ]
  },
  {
   "cell_type": "markdown",
   "metadata": {
    "colab_type": "text",
    "id": "LxpKspr1zzKZ"
   },
   "source": [
    "**Performing Operations**"
   ]
  },
  {
   "cell_type": "code",
   "execution_count": 18,
   "metadata": {
    "colab": {
     "base_uri": "https://localhost:8080/",
     "height": 70
    },
    "colab_type": "code",
    "id": "nqc8FNBEzzKa",
    "outputId": "1dce857f-b1a0-40ea-e2a0-845454bd30dd"
   },
   "outputs": [
    {
     "name": "stdout",
     "output_type": "stream",
     "text": [
      "Data Shape [Before]: (14150, 13)\n",
      "Data Shape [After]: (14121, 13)\n",
      "Drop Ratio: 0.2049 %\n"
     ]
    }
   ],
   "source": [
    "before_shape = data.shape\n",
    "print('Data Shape [Before]:', data.shape)\n",
    "\n",
    "data.drop_duplicates(inplace = True)\n",
    "\n",
    "after_shape = data.shape\n",
    "print('Data Shape [After]:', after_shape)\n",
    "\n",
    "drop_nums = before_shape[0] - after_shape[0]\n",
    "drop_percent = np.round(drop_nums / before_shape[0], decimals = 6) * 100\n",
    "\n",
    "print('Drop Ratio:', drop_percent, '%')"
   ]
  },
  {
   "cell_type": "markdown",
   "metadata": {
    "colab_type": "text",
    "id": "sj7dhGqPzzKc"
   },
   "source": [
    "**After Handling Duplicate Rows**"
   ]
  },
  {
   "cell_type": "code",
   "execution_count": 19,
   "metadata": {
    "colab": {
     "base_uri": "https://localhost:8080/",
     "height": 52
    },
    "colab_type": "code",
    "id": "RHHNuGQ3zzKd",
    "outputId": "7d03b8b7-1476-49f0-b234-526d687e84f7"
   },
   "outputs": [
    {
     "name": "stdout",
     "output_type": "stream",
     "text": [
      "Contains Redundant Records?: False\n",
      "Duplicate Count: 0\n"
     ]
    }
   ],
   "source": [
    "print('Contains Redundant Records?:', data.duplicated().any())\n",
    "print('Duplicate Count:', data.duplicated().sum())"
   ]
  },
  {
   "cell_type": "markdown",
   "metadata": {},
   "source": [
    "### 3.1 Save clean data as csv file"
   ]
  },
  {
   "cell_type": "code",
   "execution_count": 20,
   "metadata": {},
   "outputs": [],
   "source": [
    "path = os.getcwd()\n",
    "data.to_csv(path+'\\\\pre_processing.csv', index=False)"
   ]
  }
 ],
 "metadata": {
  "colab": {
   "name": "DataProcessing.ipynb",
   "provenance": []
  },
  "kernelspec": {
   "display_name": "Python 3",
   "language": "python",
   "name": "python3"
  },
  "language_info": {
   "codemirror_mode": {
    "name": "ipython",
    "version": 3
   },
   "file_extension": ".py",
   "mimetype": "text/x-python",
   "name": "python",
   "nbconvert_exporter": "python",
   "pygments_lexer": "ipython3",
   "version": "3.7.6"
  }
 },
 "nbformat": 4,
 "nbformat_minor": 4
}
