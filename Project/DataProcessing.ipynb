{
  "nbformat": 4,
  "nbformat_minor": 0,
  "metadata": {
    "kernelspec": {
      "display_name": "Python 3",
      "language": "python",
      "name": "python3"
    },
    "language_info": {
      "codemirror_mode": {
        "name": "ipython",
        "version": 3
      },
      "file_extension": ".py",
      "mimetype": "text/x-python",
      "name": "python",
      "nbconvert_exporter": "python",
      "pygments_lexer": "ipython3",
      "version": "3.7.6"
    },
    "colab": {
      "name": "DataProcessing.ipynb",
      "provenance": []
    }
  },
  "cells": [
    {
      "cell_type": "code",
      "metadata": {
        "id": "nV7XETn0zzJz",
        "colab_type": "code",
        "colab": {}
      },
      "source": [
        "import pandas as pd\n",
        "import numpy as np"
      ],
      "execution_count": 1,
      "outputs": []
    },
    {
      "cell_type": "code",
      "metadata": {
        "id": "ypecEWKHzzJ6",
        "colab_type": "code",
        "colab": {}
      },
      "source": [
        "# path = 'C:\\\\Users\\\\sande\\\\Documents\\\\INSAID Project\\\\CapstoneProject\\\\'\n",
        "data = pd.read_csv('data.csv')"
      ],
      "execution_count": 65,
      "outputs": []
    },
    {
      "cell_type": "code",
      "metadata": {
        "id": "90GrwqQNzzJ9",
        "colab_type": "code",
        "colab": {
          "base_uri": "https://localhost:8080/",
          "height": 301
        },
        "outputId": "3254761f-f066-402e-c60c-82ee81ec8129"
      },
      "source": [
        "data.head()"
      ],
      "execution_count": 66,
      "outputs": [
        {
          "output_type": "execute_result",
          "data": {
            "text/html": [
              "<div>\n",
              "<style scoped>\n",
              "    .dataframe tbody tr th:only-of-type {\n",
              "        vertical-align: middle;\n",
              "    }\n",
              "\n",
              "    .dataframe tbody tr th {\n",
              "        vertical-align: top;\n",
              "    }\n",
              "\n",
              "    .dataframe thead th {\n",
              "        text-align: right;\n",
              "    }\n",
              "</style>\n",
              "<table border=\"1\" class=\"dataframe\">\n",
              "  <thead>\n",
              "    <tr style=\"text-align: right;\">\n",
              "      <th></th>\n",
              "      <th>dept_id</th>\n",
              "      <th>employee_id</th>\n",
              "      <th>avg_monthly_hrs</th>\n",
              "      <th>filed_complaint</th>\n",
              "      <th>last_evaluation</th>\n",
              "      <th>n_projects</th>\n",
              "      <th>recently_promoted</th>\n",
              "      <th>salary</th>\n",
              "      <th>satisfaction</th>\n",
              "      <th>status</th>\n",
              "      <th>tenure</th>\n",
              "      <th>age</th>\n",
              "      <th>gender</th>\n",
              "      <th>marital_status</th>\n",
              "      <th>dept_name</th>\n",
              "      <th>dept_head</th>\n",
              "    </tr>\n",
              "  </thead>\n",
              "  <tbody>\n",
              "    <tr>\n",
              "      <th>0</th>\n",
              "      <td>D00-AD</td>\n",
              "      <td>100360</td>\n",
              "      <td>274.0</td>\n",
              "      <td>NaN</td>\n",
              "      <td>0.810377</td>\n",
              "      <td>4</td>\n",
              "      <td>NaN</td>\n",
              "      <td>high</td>\n",
              "      <td>0.872978</td>\n",
              "      <td>Employed</td>\n",
              "      <td>3.0</td>\n",
              "      <td>41.0</td>\n",
              "      <td>Female</td>\n",
              "      <td>Married</td>\n",
              "      <td>Admin</td>\n",
              "      <td>Evelyn Tolson</td>\n",
              "    </tr>\n",
              "    <tr>\n",
              "      <th>1</th>\n",
              "      <td>D00-AD</td>\n",
              "      <td>100852</td>\n",
              "      <td>260.0</td>\n",
              "      <td>NaN</td>\n",
              "      <td>0.955429</td>\n",
              "      <td>4</td>\n",
              "      <td>NaN</td>\n",
              "      <td>low</td>\n",
              "      <td>0.615781</td>\n",
              "      <td>Employed</td>\n",
              "      <td>4.0</td>\n",
              "      <td>46.0</td>\n",
              "      <td>Male</td>\n",
              "      <td>Married</td>\n",
              "      <td>Admin</td>\n",
              "      <td>Evelyn Tolson</td>\n",
              "    </tr>\n",
              "    <tr>\n",
              "      <th>2</th>\n",
              "      <td>D00-AD</td>\n",
              "      <td>100876</td>\n",
              "      <td>254.0</td>\n",
              "      <td>1.0</td>\n",
              "      <td>0.971611</td>\n",
              "      <td>7</td>\n",
              "      <td>NaN</td>\n",
              "      <td>medium</td>\n",
              "      <td>0.155280</td>\n",
              "      <td>Left</td>\n",
              "      <td>4.0</td>\n",
              "      <td>45.0</td>\n",
              "      <td>Male</td>\n",
              "      <td>Married</td>\n",
              "      <td>Admin</td>\n",
              "      <td>Evelyn Tolson</td>\n",
              "    </tr>\n",
              "    <tr>\n",
              "      <th>3</th>\n",
              "      <td>D00-AD</td>\n",
              "      <td>100909</td>\n",
              "      <td>151.0</td>\n",
              "      <td>NaN</td>\n",
              "      <td>0.974578</td>\n",
              "      <td>5</td>\n",
              "      <td>NaN</td>\n",
              "      <td>medium</td>\n",
              "      <td>0.873819</td>\n",
              "      <td>Employed</td>\n",
              "      <td>3.0</td>\n",
              "      <td>46.0</td>\n",
              "      <td>Female</td>\n",
              "      <td>Married</td>\n",
              "      <td>Admin</td>\n",
              "      <td>Evelyn Tolson</td>\n",
              "    </tr>\n",
              "    <tr>\n",
              "      <th>4</th>\n",
              "      <td>D00-AD</td>\n",
              "      <td>101075</td>\n",
              "      <td>236.0</td>\n",
              "      <td>NaN</td>\n",
              "      <td>0.451697</td>\n",
              "      <td>3</td>\n",
              "      <td>NaN</td>\n",
              "      <td>medium</td>\n",
              "      <td>0.370081</td>\n",
              "      <td>Employed</td>\n",
              "      <td>2.0</td>\n",
              "      <td>24.0</td>\n",
              "      <td>Male</td>\n",
              "      <td>Unmarried</td>\n",
              "      <td>Admin</td>\n",
              "      <td>Evelyn Tolson</td>\n",
              "    </tr>\n",
              "  </tbody>\n",
              "</table>\n",
              "</div>"
            ],
            "text/plain": [
              "  dept_id  employee_id  avg_monthly_hrs  ...  marital_status  dept_name      dept_head\n",
              "0  D00-AD       100360            274.0  ...         Married      Admin  Evelyn Tolson\n",
              "1  D00-AD       100852            260.0  ...         Married      Admin  Evelyn Tolson\n",
              "2  D00-AD       100876            254.0  ...         Married      Admin  Evelyn Tolson\n",
              "3  D00-AD       100909            151.0  ...         Married      Admin  Evelyn Tolson\n",
              "4  D00-AD       101075            236.0  ...       Unmarried      Admin  Evelyn Tolson\n",
              "\n",
              "[5 rows x 16 columns]"
            ]
          },
          "metadata": {
            "tags": []
          },
          "execution_count": 66
        }
      ]
    },
    {
      "cell_type": "markdown",
      "metadata": {
        "id": "6q5ud_OdzzKC",
        "colab_type": "text"
      },
      "source": [
        "<a id = Section5></a>\n",
        "\n",
        "---\n",
        "# **1. Data Pre-Processing**\n",
        "---"
      ]
    },
    {
      "cell_type": "markdown",
      "metadata": {
        "id": "w4DilaKOzzKD",
        "colab_type": "text"
      },
      "source": [
        "<a id = Section51></a>\n",
        "### **5.1 Identification & Handling of Missing Data**"
      ]
    },
    {
      "cell_type": "markdown",
      "metadata": {
        "id": "_uJGe8LFzzKD",
        "colab_type": "text"
      },
      "source": [
        "**Before Handling Null Data**"
      ]
    },
    {
      "cell_type": "code",
      "metadata": {
        "id": "KV2I-_TxzzKE",
        "colab_type": "code",
        "colab": {
          "base_uri": "https://localhost:8080/",
          "height": 107
        },
        "outputId": "8f2b16ba-4cf6-47e1-baa7-bb523c152e44"
      },
      "source": [
        "null_frame = pd.DataFrame(index = data.columns.values)\n",
        "null_frame['Null Frequency'] = data.isnull().sum().values\n",
        "percent = data.isnull().sum().values/data.shape[0]\n",
        "null_frame['Missing %age'] = np.round(percent, decimals = 4) * 100\n",
        "null_frame[null_frame['Null Frequency']>0].transpose()"
      ],
      "execution_count": 67,
      "outputs": [
        {
          "output_type": "execute_result",
          "data": {
            "text/html": [
              "<div>\n",
              "<style scoped>\n",
              "    .dataframe tbody tr th:only-of-type {\n",
              "        vertical-align: middle;\n",
              "    }\n",
              "\n",
              "    .dataframe tbody tr th {\n",
              "        vertical-align: top;\n",
              "    }\n",
              "\n",
              "    .dataframe thead th {\n",
              "        text-align: right;\n",
              "    }\n",
              "</style>\n",
              "<table border=\"1\" class=\"dataframe\">\n",
              "  <thead>\n",
              "    <tr style=\"text-align: right;\">\n",
              "      <th></th>\n",
              "      <th>dept_id</th>\n",
              "      <th>filed_complaint</th>\n",
              "      <th>last_evaluation</th>\n",
              "      <th>recently_promoted</th>\n",
              "      <th>satisfaction</th>\n",
              "      <th>tenure</th>\n",
              "      <th>age</th>\n",
              "      <th>gender</th>\n",
              "      <th>marital_status</th>\n",
              "      <th>dept_name</th>\n",
              "      <th>dept_head</th>\n",
              "    </tr>\n",
              "  </thead>\n",
              "  <tbody>\n",
              "    <tr>\n",
              "      <th>Null Frequency</th>\n",
              "      <td>707.0</td>\n",
              "      <td>12104.00</td>\n",
              "      <td>1487.00</td>\n",
              "      <td>13853.0</td>\n",
              "      <td>150.00</td>\n",
              "      <td>150.00</td>\n",
              "      <td>5.00</td>\n",
              "      <td>5.00</td>\n",
              "      <td>5.00</td>\n",
              "      <td>707.0</td>\n",
              "      <td>707.0</td>\n",
              "    </tr>\n",
              "    <tr>\n",
              "      <th>Missing %age</th>\n",
              "      <td>5.0</td>\n",
              "      <td>85.54</td>\n",
              "      <td>10.51</td>\n",
              "      <td>97.9</td>\n",
              "      <td>1.06</td>\n",
              "      <td>1.06</td>\n",
              "      <td>0.04</td>\n",
              "      <td>0.04</td>\n",
              "      <td>0.04</td>\n",
              "      <td>5.0</td>\n",
              "      <td>5.0</td>\n",
              "    </tr>\n",
              "  </tbody>\n",
              "</table>\n",
              "</div>"
            ],
            "text/plain": [
              "                dept_id  filed_complaint  ...  dept_name  dept_head\n",
              "Null Frequency    707.0         12104.00  ...      707.0      707.0\n",
              "Missing %age        5.0            85.54  ...        5.0        5.0\n",
              "\n",
              "[2 rows x 11 columns]"
            ]
          },
          "metadata": {
            "tags": []
          },
          "execution_count": 67
        }
      ]
    },
    {
      "cell_type": "markdown",
      "metadata": {
        "id": "O8PjyjPLzzKI",
        "colab_type": "text"
      },
      "source": [
        "**Observation:**\n",
        "\n",
        "- **dept_id, dept_name and dept_head**:\n",
        "  - Problem &rarr; Drop two columns as they giving same information; Action Required on the remaining\n",
        "- **filed_complaint**:\n",
        "  - Missing Information (12080) &rarr; Replace with- 0.\n",
        "- **last_evaluation**:\n",
        "  - Missing Information (1487) &rarr; Replace with- Median value.\n",
        "- **recently_promoted**:\n",
        "  - Missing Informa tion (13824) &rarr; Replace with- 0.\n",
        "- **satisfaction**:\n",
        "  - Missing Information (150) &rarr; Replace with- Median value.\n",
        "- **tenure**:\n",
        "  - Missing Information (150) &rarr; Action Required.\n",
        "- **age**:\n",
        "  - Missing Informa tion (5) &rarr; Replace with- Median.\n",
        "- **gender**:\n",
        "  - Missing Information (5) &rarr; Replace with- Mode.\n",
        "- **marital_status**:\n",
        "  - Missing Informa tion (5) &rarr; Replace with- Mode."
      ]
    },
    {
      "cell_type": "markdown",
      "metadata": {
        "id": "bA6IXEdKzzKI",
        "colab_type": "text"
      },
      "source": [
        "**Performing Operations**"
      ]
    },
    {
      "cell_type": "code",
      "metadata": {
        "id": "jya0GCT9zzKJ",
        "colab_type": "code",
        "colab": {}
      },
      "source": [
        "data.drop(columns=['dept_id','dept_head','employee_id'], inplace=True)"
      ],
      "execution_count": 68,
      "outputs": []
    },
    {
      "cell_type": "code",
      "metadata": {
        "id": "o_V8Vsv4zzKM",
        "colab_type": "code",
        "colab": {}
      },
      "source": [
        "data['filed_complaint'] = data['filed_complaint'].fillna(0)\n",
        "data['recently_promoted'] = data['recently_promoted'].fillna(0)\n",
        "data['dept_name'] = data['dept_name'].fillna('Other')\n",
        "data['age'] = data['age'].fillna(data['age'].mean())\n",
        "data['gender'] = data['gender'].fillna(data['gender'].mode()[0])\n",
        "data['marital_status'] = data['marital_status'].fillna(data['marital_status'].mode()[0])\n",
        "data['tenure'] = data['tenure'].fillna(data['tenure'].mode()[0])\n",
        "data['marital_status'] = data['marital_status'].fillna(data['marital_status'].mode()[0])\n",
        "data['last_evaluation'] = data['last_evaluation'].fillna(data['last_evaluation'].mean())\n",
        "data['satisfaction'] = data['satisfaction'].fillna(data['satisfaction'].mean())"
      ],
      "execution_count": 79,
      "outputs": []
    },
    {
      "cell_type": "code",
      "metadata": {
        "colab_type": "code",
        "id": "FR6ovh_nARbc",
        "colab": {
          "base_uri": "https://localhost:8080/",
          "height": 91
        },
        "outputId": "dd4d6ea8-1a54-4a6c-f8d8-8ac03f6b8aa8"
      },
      "source": [
        "null_frame = pd.DataFrame(index = data.columns.values)\n",
        "null_frame['Null Frequency'] = data.isnull().sum().values\n",
        "percent = data.isnull().sum().values/data.shape[0]\n",
        "null_frame['Missing %age'] = np.round(percent, decimals = 4) * 100\n",
        "null_frame[null_frame['Null Frequency']>0].transpose()"
      ],
      "execution_count": 80,
      "outputs": [
        {
          "output_type": "execute_result",
          "data": {
            "text/html": [
              "<div>\n",
              "<style scoped>\n",
              "    .dataframe tbody tr th:only-of-type {\n",
              "        vertical-align: middle;\n",
              "    }\n",
              "\n",
              "    .dataframe tbody tr th {\n",
              "        vertical-align: top;\n",
              "    }\n",
              "\n",
              "    .dataframe thead th {\n",
              "        text-align: right;\n",
              "    }\n",
              "</style>\n",
              "<table border=\"1\" class=\"dataframe\">\n",
              "  <thead>\n",
              "    <tr style=\"text-align: right;\">\n",
              "      <th></th>\n",
              "    </tr>\n",
              "  </thead>\n",
              "  <tbody>\n",
              "    <tr>\n",
              "      <th>Null Frequency</th>\n",
              "    </tr>\n",
              "    <tr>\n",
              "      <th>Missing %age</th>\n",
              "    </tr>\n",
              "  </tbody>\n",
              "</table>\n",
              "</div>"
            ],
            "text/plain": [
              "Empty DataFrame\n",
              "Columns: []\n",
              "Index: [Null Frequency, Missing %age]"
            ]
          },
          "metadata": {
            "tags": []
          },
          "execution_count": 80
        }
      ]
    },
    {
      "cell_type": "markdown",
      "metadata": {
        "id": "FZ_jI7q3zzKS",
        "colab_type": "text"
      },
      "source": [
        "<a id = Section52></a>\n",
        "### **5.2 Identification & Handling of Redundant Data**\n",
        "\n",
        "- In this section **we will identify redundant rows and columns** in our data if present."
      ]
    },
    {
      "cell_type": "markdown",
      "metadata": {
        "id": "CtGN2BXYzzKS",
        "colab_type": "text"
      },
      "source": [
        "#### **5.2.1 Identfication & Handling of Redundant Rows**"
      ]
    },
    {
      "cell_type": "markdown",
      "metadata": {
        "id": "OfkQjUjXzzKT",
        "colab_type": "text"
      },
      "source": [
        "**Before Handling Duplicate Rows**"
      ]
    },
    {
      "cell_type": "code",
      "metadata": {
        "id": "-f0islMrzzKT",
        "colab_type": "code",
        "colab": {
          "base_uri": "https://localhost:8080/",
          "height": 52
        },
        "outputId": "8cee04e6-d986-43b1-c682-b28cd118fe91"
      },
      "source": [
        "print('Contains Redundant Records?:', data.duplicated().any())\n",
        "print('Duplicate Count:', data.duplicated().sum())"
      ],
      "execution_count": 81,
      "outputs": [
        {
          "output_type": "stream",
          "text": [
            "Contains Redundant Records?: True\n",
            "Duplicate Count: 29\n"
          ],
          "name": "stdout"
        }
      ]
    },
    {
      "cell_type": "markdown",
      "metadata": {
        "id": "Uz2RLtmdzzKZ",
        "colab_type": "text"
      },
      "source": [
        "**Observation:**\n",
        "\n",
        "- We can see that **there are redundant records present** in the data"
      ]
    },
    {
      "cell_type": "markdown",
      "metadata": {
        "id": "LxpKspr1zzKZ",
        "colab_type": "text"
      },
      "source": [
        "**Performing Operations**"
      ]
    },
    {
      "cell_type": "code",
      "metadata": {
        "id": "nqc8FNBEzzKa",
        "colab_type": "code",
        "colab": {
          "base_uri": "https://localhost:8080/",
          "height": 70
        },
        "outputId": "1dce857f-b1a0-40ea-e2a0-845454bd30dd"
      },
      "source": [
        "before_shape = data.shape\n",
        "print('Data Shape [Before]:', data.shape)\n",
        "\n",
        "data.drop_duplicates(inplace = True)\n",
        "\n",
        "after_shape = data.shape\n",
        "print('Data Shape [After]:', after_shape)\n",
        "\n",
        "drop_nums = before_shape[0] - after_shape[0]\n",
        "drop_percent = np.round(drop_nums / before_shape[0], decimals = 6) * 100\n",
        "\n",
        "print('Drop Ratio:', drop_percent, '%')"
      ],
      "execution_count": 82,
      "outputs": [
        {
          "output_type": "stream",
          "text": [
            "Data Shape [Before]: (14150, 13)\n",
            "Data Shape [After]: (14121, 13)\n",
            "Drop Ratio: 0.2049 %\n"
          ],
          "name": "stdout"
        }
      ]
    },
    {
      "cell_type": "markdown",
      "metadata": {
        "id": "sj7dhGqPzzKc",
        "colab_type": "text"
      },
      "source": [
        "**After Handling Duplicate Rows**"
      ]
    },
    {
      "cell_type": "code",
      "metadata": {
        "id": "RHHNuGQ3zzKd",
        "colab_type": "code",
        "colab": {
          "base_uri": "https://localhost:8080/",
          "height": 52
        },
        "outputId": "7d03b8b7-1476-49f0-b234-526d687e84f7"
      },
      "source": [
        "print('Contains Redundant Records?:', data.duplicated().any())\n",
        "print('Duplicate Count:', data.duplicated().sum())"
      ],
      "execution_count": 83,
      "outputs": [
        {
          "output_type": "stream",
          "text": [
            "Contains Redundant Records?: False\n",
            "Duplicate Count: 0\n"
          ],
          "name": "stdout"
        }
      ]
    },
    {
      "cell_type": "code",
      "metadata": {
        "id": "tjvZNXOqzzKg",
        "colab_type": "code",
        "colab": {}
      },
      "source": [
        ""
      ],
      "execution_count": null,
      "outputs": []
    }
  ]
}
