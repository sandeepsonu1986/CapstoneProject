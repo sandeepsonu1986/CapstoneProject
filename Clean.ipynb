{
 "cells": [
  {
   "cell_type": "markdown",
   "metadata": {},
   "source": [
    "### **1.1 Importing Libraries**"
   ]
  },
  {
   "cell_type": "code",
   "execution_count": 1,
   "metadata": {},
   "outputs": [],
   "source": [
    "import numpy as np\n",
    "import pandas as pd\n",
    "from pandas_profiling import ProfileReport\n",
    "\n",
    "pd.set_option('display.max_columns', None)\n",
    "pd.set_option('display.max_colwidth', None)\n",
    "pd.set_option('display.max_rows', None)\n",
    "pd.set_option('mode.chained_assignment', None)"
   ]
  },
  {
   "cell_type": "markdown",
   "metadata": {},
   "source": [
    "### **1.2 Import employee_data, employee_details_data and department_data and validate**"
   ]
  },
  {
   "cell_type": "code",
   "execution_count": 5,
   "metadata": {},
   "outputs": [],
   "source": [
    "path = 'C:\\\\Users\\\\sande\\\\Documents\\\\INSAID Project\\\\CapstoneProject\\\\'\n",
    "\n",
    "employee = pd.read_csv(path + 'employee_data.csv', index_col='employee_id')\n",
    "department = pd.read_csv(path + 'department_data.csv', index_col='dept_id')\n",
    "employee_details= pd.read_csv(path + 'employee_details_data.csv', index_col='employee_id')"
   ]
  },
  {
   "cell_type": "markdown",
   "metadata": {},
   "source": [
    "**Check shape of tables**"
   ]
  },
  {
   "cell_type": "code",
   "execution_count": 6,
   "metadata": {},
   "outputs": [
    {
     "name": "stdout",
     "output_type": "stream",
     "text": [
      "department_data: (11, 2)\n",
      "employee_data: (14150, 10)\n",
      "employee_details_data: (14245, 3)\n"
     ]
    }
   ],
   "source": [
    "print('department_data:', department.shape)\n",
    "print('employee_data:', employee.shape)\n",
    "print('employee_details_data:', employee_details.shape)"
   ]
  },
  {
   "cell_type": "markdown",
   "metadata": {},
   "source": [
    "### **1.3 Merge employee_data, employee_details_data and department_data in single file**"
   ]
  },
  {
   "cell_type": "markdown",
   "metadata": {},
   "source": [
    "#### 1.3.1 Check data quality for index cols in department"
   ]
  },
  {
   "cell_type": "code",
   "execution_count": 22,
   "metadata": {},
   "outputs": [
    {
     "data": {
      "text/plain": [
       "D00-SS     3905\n",
       "D00-ENG    2575\n",
       "D00-SP     2113\n",
       "D00-IT     1157\n",
       "D00-PD      855\n",
       "D00-MT      815\n",
       "D00-FN      725\n",
       "D00-MN      593\n",
       "-IT         207\n",
       "D00-AD      175\n",
       "D00-PR      173\n",
       "D00-TP      150\n",
       "Name: department, dtype: int64"
      ]
     },
     "execution_count": 22,
     "metadata": {},
     "output_type": "execute_result"
    }
   ],
   "source": [
    "employee['department'].value_counts()"
   ]
  },
  {
   "cell_type": "markdown",
   "metadata": {},
   "source": [
    "**Observation**\n",
    "- We can see the '-IT' is incorrect and needs to be replaced with 'D00-IT'"
   ]
  },
  {
   "cell_type": "code",
   "execution_count": 23,
   "metadata": {},
   "outputs": [],
   "source": [
    "employee['department'].replace(to_replace='-IT', value='D00-IT', inplace=True )"
   ]
  },
  {
   "cell_type": "markdown",
   "metadata": {},
   "source": [
    "**After correcting employee['department'] values**"
   ]
  },
  {
   "cell_type": "code",
   "execution_count": 24,
   "metadata": {},
   "outputs": [
    {
     "data": {
      "text/plain": [
       "D00-SS     3905\n",
       "D00-ENG    2575\n",
       "D00-SP     2113\n",
       "D00-IT     1364\n",
       "D00-PD      855\n",
       "D00-MT      815\n",
       "D00-FN      725\n",
       "D00-MN      593\n",
       "D00-AD      175\n",
       "D00-PR      173\n",
       "D00-TP      150\n",
       "Name: department, dtype: int64"
      ]
     },
     "execution_count": 24,
     "metadata": {},
     "output_type": "execute_result"
    }
   ],
   "source": [
    "employee['department'].value_counts()"
   ]
  },
  {
   "cell_type": "markdown",
   "metadata": {},
   "source": [
    "- **Merge employee_data and employee_det with employee_id as index value** "
   ]
  },
  {
   "cell_type": "code",
   "execution_count": 25,
   "metadata": {},
   "outputs": [],
   "source": [
    "data = employee.join(employee_details).reset_index()"
   ]
  },
  {
   "cell_type": "markdown",
   "metadata": {},
   "source": [
    "- **Rename department to dept_id to sync with col name in department.**\n",
    "- **Merge with Department table**"
   ]
  },
  {
   "cell_type": "code",
   "execution_count": 26,
   "metadata": {},
   "outputs": [],
   "source": [
    "data = data.rename(columns={'department':'dept_id'}).set_index('dept_id')\n",
    "data = data.join(department).reset_index()"
   ]
  },
  {
   "cell_type": "code",
   "execution_count": 27,
   "metadata": {},
   "outputs": [
    {
     "data": {
      "text/plain": [
       "(14150, 16)"
      ]
     },
     "execution_count": 27,
     "metadata": {},
     "output_type": "execute_result"
    }
   ],
   "source": [
    "data.shape"
   ]
  },
  {
   "cell_type": "code",
   "execution_count": 28,
   "metadata": {},
   "outputs": [
    {
     "data": {
      "text/html": [
       "<div>\n",
       "<style scoped>\n",
       "    .dataframe tbody tr th:only-of-type {\n",
       "        vertical-align: middle;\n",
       "    }\n",
       "\n",
       "    .dataframe tbody tr th {\n",
       "        vertical-align: top;\n",
       "    }\n",
       "\n",
       "    .dataframe thead th {\n",
       "        text-align: right;\n",
       "    }\n",
       "</style>\n",
       "<table border=\"1\" class=\"dataframe\">\n",
       "  <thead>\n",
       "    <tr style=\"text-align: right;\">\n",
       "      <th></th>\n",
       "      <th>dept_id</th>\n",
       "      <th>employee_id</th>\n",
       "      <th>avg_monthly_hrs</th>\n",
       "      <th>filed_complaint</th>\n",
       "      <th>last_evaluation</th>\n",
       "      <th>n_projects</th>\n",
       "      <th>recently_promoted</th>\n",
       "      <th>salary</th>\n",
       "      <th>satisfaction</th>\n",
       "      <th>status</th>\n",
       "      <th>tenure</th>\n",
       "      <th>age</th>\n",
       "      <th>gender</th>\n",
       "      <th>marital_status</th>\n",
       "      <th>dept_name</th>\n",
       "      <th>dept_head</th>\n",
       "    </tr>\n",
       "  </thead>\n",
       "  <tbody>\n",
       "    <tr>\n",
       "      <th>0</th>\n",
       "      <td>D00-AD</td>\n",
       "      <td>100360</td>\n",
       "      <td>274.0</td>\n",
       "      <td>NaN</td>\n",
       "      <td>0.810377</td>\n",
       "      <td>4</td>\n",
       "      <td>NaN</td>\n",
       "      <td>high</td>\n",
       "      <td>0.872978</td>\n",
       "      <td>Employed</td>\n",
       "      <td>3.0</td>\n",
       "      <td>41.0</td>\n",
       "      <td>Female</td>\n",
       "      <td>Married</td>\n",
       "      <td>Admin</td>\n",
       "      <td>Evelyn Tolson</td>\n",
       "    </tr>\n",
       "    <tr>\n",
       "      <th>1</th>\n",
       "      <td>D00-AD</td>\n",
       "      <td>100852</td>\n",
       "      <td>260.0</td>\n",
       "      <td>NaN</td>\n",
       "      <td>0.955429</td>\n",
       "      <td>4</td>\n",
       "      <td>NaN</td>\n",
       "      <td>low</td>\n",
       "      <td>0.615781</td>\n",
       "      <td>Employed</td>\n",
       "      <td>4.0</td>\n",
       "      <td>46.0</td>\n",
       "      <td>Male</td>\n",
       "      <td>Married</td>\n",
       "      <td>Admin</td>\n",
       "      <td>Evelyn Tolson</td>\n",
       "    </tr>\n",
       "    <tr>\n",
       "      <th>2</th>\n",
       "      <td>D00-AD</td>\n",
       "      <td>100876</td>\n",
       "      <td>254.0</td>\n",
       "      <td>1.0</td>\n",
       "      <td>0.971611</td>\n",
       "      <td>7</td>\n",
       "      <td>NaN</td>\n",
       "      <td>medium</td>\n",
       "      <td>0.155280</td>\n",
       "      <td>Left</td>\n",
       "      <td>4.0</td>\n",
       "      <td>45.0</td>\n",
       "      <td>Male</td>\n",
       "      <td>Married</td>\n",
       "      <td>Admin</td>\n",
       "      <td>Evelyn Tolson</td>\n",
       "    </tr>\n",
       "    <tr>\n",
       "      <th>3</th>\n",
       "      <td>D00-AD</td>\n",
       "      <td>100909</td>\n",
       "      <td>151.0</td>\n",
       "      <td>NaN</td>\n",
       "      <td>0.974578</td>\n",
       "      <td>5</td>\n",
       "      <td>NaN</td>\n",
       "      <td>medium</td>\n",
       "      <td>0.873819</td>\n",
       "      <td>Employed</td>\n",
       "      <td>3.0</td>\n",
       "      <td>46.0</td>\n",
       "      <td>Female</td>\n",
       "      <td>Married</td>\n",
       "      <td>Admin</td>\n",
       "      <td>Evelyn Tolson</td>\n",
       "    </tr>\n",
       "    <tr>\n",
       "      <th>4</th>\n",
       "      <td>D00-AD</td>\n",
       "      <td>101075</td>\n",
       "      <td>236.0</td>\n",
       "      <td>NaN</td>\n",
       "      <td>0.451697</td>\n",
       "      <td>3</td>\n",
       "      <td>NaN</td>\n",
       "      <td>medium</td>\n",
       "      <td>0.370081</td>\n",
       "      <td>Employed</td>\n",
       "      <td>2.0</td>\n",
       "      <td>24.0</td>\n",
       "      <td>Male</td>\n",
       "      <td>Unmarried</td>\n",
       "      <td>Admin</td>\n",
       "      <td>Evelyn Tolson</td>\n",
       "    </tr>\n",
       "  </tbody>\n",
       "</table>\n",
       "</div>"
      ],
      "text/plain": [
       "  dept_id  employee_id  avg_monthly_hrs  filed_complaint  last_evaluation  \\\n",
       "0  D00-AD       100360            274.0              NaN         0.810377   \n",
       "1  D00-AD       100852            260.0              NaN         0.955429   \n",
       "2  D00-AD       100876            254.0              1.0         0.971611   \n",
       "3  D00-AD       100909            151.0              NaN         0.974578   \n",
       "4  D00-AD       101075            236.0              NaN         0.451697   \n",
       "\n",
       "   n_projects  recently_promoted  salary  satisfaction    status  tenure  \\\n",
       "0           4                NaN    high      0.872978  Employed     3.0   \n",
       "1           4                NaN     low      0.615781  Employed     4.0   \n",
       "2           7                NaN  medium      0.155280      Left     4.0   \n",
       "3           5                NaN  medium      0.873819  Employed     3.0   \n",
       "4           3                NaN  medium      0.370081  Employed     2.0   \n",
       "\n",
       "    age  gender marital_status dept_name      dept_head  \n",
       "0  41.0  Female        Married     Admin  Evelyn Tolson  \n",
       "1  46.0    Male        Married     Admin  Evelyn Tolson  \n",
       "2  45.0    Male        Married     Admin  Evelyn Tolson  \n",
       "3  46.0  Female        Married     Admin  Evelyn Tolson  \n",
       "4  24.0    Male      Unmarried     Admin  Evelyn Tolson  "
      ]
     },
     "execution_count": 28,
     "metadata": {},
     "output_type": "execute_result"
    }
   ],
   "source": [
    "data.head()"
   ]
  },
  {
   "cell_type": "markdown",
   "metadata": {},
   "source": [
    "#### 1.3.2 Create copy of data"
   ]
  },
  {
   "cell_type": "code",
   "execution_count": 29,
   "metadata": {},
   "outputs": [],
   "source": [
    "from copy import deepcopy\n",
    "data_backup = deepcopy(data)"
   ]
  },
  {
   "cell_type": "code",
   "execution_count": 30,
   "metadata": {},
   "outputs": [
    {
     "data": {
      "text/html": [
       "<div>\n",
       "<style scoped>\n",
       "    .dataframe tbody tr th:only-of-type {\n",
       "        vertical-align: middle;\n",
       "    }\n",
       "\n",
       "    .dataframe tbody tr th {\n",
       "        vertical-align: top;\n",
       "    }\n",
       "\n",
       "    .dataframe thead th {\n",
       "        text-align: right;\n",
       "    }\n",
       "</style>\n",
       "<table border=\"1\" class=\"dataframe\">\n",
       "  <thead>\n",
       "    <tr style=\"text-align: right;\">\n",
       "      <th></th>\n",
       "      <th>dept_id</th>\n",
       "      <th>employee_id</th>\n",
       "      <th>avg_monthly_hrs</th>\n",
       "      <th>filed_complaint</th>\n",
       "      <th>last_evaluation</th>\n",
       "      <th>n_projects</th>\n",
       "      <th>recently_promoted</th>\n",
       "      <th>salary</th>\n",
       "      <th>satisfaction</th>\n",
       "      <th>status</th>\n",
       "      <th>tenure</th>\n",
       "      <th>age</th>\n",
       "      <th>gender</th>\n",
       "      <th>marital_status</th>\n",
       "      <th>dept_name</th>\n",
       "      <th>dept_head</th>\n",
       "    </tr>\n",
       "  </thead>\n",
       "  <tbody>\n",
       "    <tr>\n",
       "      <th>0</th>\n",
       "      <td>D00-AD</td>\n",
       "      <td>100360</td>\n",
       "      <td>274.0</td>\n",
       "      <td>NaN</td>\n",
       "      <td>0.810377</td>\n",
       "      <td>4</td>\n",
       "      <td>NaN</td>\n",
       "      <td>high</td>\n",
       "      <td>0.872978</td>\n",
       "      <td>Employed</td>\n",
       "      <td>3.0</td>\n",
       "      <td>41.0</td>\n",
       "      <td>Female</td>\n",
       "      <td>Married</td>\n",
       "      <td>Admin</td>\n",
       "      <td>Evelyn Tolson</td>\n",
       "    </tr>\n",
       "    <tr>\n",
       "      <th>1</th>\n",
       "      <td>D00-AD</td>\n",
       "      <td>100852</td>\n",
       "      <td>260.0</td>\n",
       "      <td>NaN</td>\n",
       "      <td>0.955429</td>\n",
       "      <td>4</td>\n",
       "      <td>NaN</td>\n",
       "      <td>low</td>\n",
       "      <td>0.615781</td>\n",
       "      <td>Employed</td>\n",
       "      <td>4.0</td>\n",
       "      <td>46.0</td>\n",
       "      <td>Male</td>\n",
       "      <td>Married</td>\n",
       "      <td>Admin</td>\n",
       "      <td>Evelyn Tolson</td>\n",
       "    </tr>\n",
       "    <tr>\n",
       "      <th>2</th>\n",
       "      <td>D00-AD</td>\n",
       "      <td>100876</td>\n",
       "      <td>254.0</td>\n",
       "      <td>1.0</td>\n",
       "      <td>0.971611</td>\n",
       "      <td>7</td>\n",
       "      <td>NaN</td>\n",
       "      <td>medium</td>\n",
       "      <td>0.155280</td>\n",
       "      <td>Left</td>\n",
       "      <td>4.0</td>\n",
       "      <td>45.0</td>\n",
       "      <td>Male</td>\n",
       "      <td>Married</td>\n",
       "      <td>Admin</td>\n",
       "      <td>Evelyn Tolson</td>\n",
       "    </tr>\n",
       "    <tr>\n",
       "      <th>3</th>\n",
       "      <td>D00-AD</td>\n",
       "      <td>100909</td>\n",
       "      <td>151.0</td>\n",
       "      <td>NaN</td>\n",
       "      <td>0.974578</td>\n",
       "      <td>5</td>\n",
       "      <td>NaN</td>\n",
       "      <td>medium</td>\n",
       "      <td>0.873819</td>\n",
       "      <td>Employed</td>\n",
       "      <td>3.0</td>\n",
       "      <td>46.0</td>\n",
       "      <td>Female</td>\n",
       "      <td>Married</td>\n",
       "      <td>Admin</td>\n",
       "      <td>Evelyn Tolson</td>\n",
       "    </tr>\n",
       "    <tr>\n",
       "      <th>4</th>\n",
       "      <td>D00-AD</td>\n",
       "      <td>101075</td>\n",
       "      <td>236.0</td>\n",
       "      <td>NaN</td>\n",
       "      <td>0.451697</td>\n",
       "      <td>3</td>\n",
       "      <td>NaN</td>\n",
       "      <td>medium</td>\n",
       "      <td>0.370081</td>\n",
       "      <td>Employed</td>\n",
       "      <td>2.0</td>\n",
       "      <td>24.0</td>\n",
       "      <td>Male</td>\n",
       "      <td>Unmarried</td>\n",
       "      <td>Admin</td>\n",
       "      <td>Evelyn Tolson</td>\n",
       "    </tr>\n",
       "  </tbody>\n",
       "</table>\n",
       "</div>"
      ],
      "text/plain": [
       "  dept_id  employee_id  avg_monthly_hrs  filed_complaint  last_evaluation  \\\n",
       "0  D00-AD       100360            274.0              NaN         0.810377   \n",
       "1  D00-AD       100852            260.0              NaN         0.955429   \n",
       "2  D00-AD       100876            254.0              1.0         0.971611   \n",
       "3  D00-AD       100909            151.0              NaN         0.974578   \n",
       "4  D00-AD       101075            236.0              NaN         0.451697   \n",
       "\n",
       "   n_projects  recently_promoted  salary  satisfaction    status  tenure  \\\n",
       "0           4                NaN    high      0.872978  Employed     3.0   \n",
       "1           4                NaN     low      0.615781  Employed     4.0   \n",
       "2           7                NaN  medium      0.155280      Left     4.0   \n",
       "3           5                NaN  medium      0.873819  Employed     3.0   \n",
       "4           3                NaN  medium      0.370081  Employed     2.0   \n",
       "\n",
       "    age  gender marital_status dept_name      dept_head  \n",
       "0  41.0  Female        Married     Admin  Evelyn Tolson  \n",
       "1  46.0    Male        Married     Admin  Evelyn Tolson  \n",
       "2  45.0    Male        Married     Admin  Evelyn Tolson  \n",
       "3  46.0  Female        Married     Admin  Evelyn Tolson  \n",
       "4  24.0    Male      Unmarried     Admin  Evelyn Tolson  "
      ]
     },
     "execution_count": 30,
     "metadata": {},
     "output_type": "execute_result"
    }
   ],
   "source": [
    "data_backup.head()"
   ]
  },
  {
   "cell_type": "code",
   "execution_count": 37,
   "metadata": {},
   "outputs": [],
   "source": [
    "path = 'C:\\\\Users\\\\sande\\\\Documents\\\\INSAID Project\\\\CapstoneProject\\\\'\n",
    "data.to_csv(path+'data.csv', index=False)"
   ]
  },
  {
   "cell_type": "markdown",
   "metadata": {},
   "source": [
    "### **1.4 Identification & Handling of Missing Data**"
   ]
  },
  {
   "cell_type": "code",
   "execution_count": null,
   "metadata": {},
   "outputs": [],
   "source": [
    "print('Contains Redundant Records?:', employee.duplicated().any())\n",
    "print('Duplicate Count:', employee.duplicated().sum())"
   ]
  },
  {
   "cell_type": "code",
   "execution_count": null,
   "metadata": {},
   "outputs": [],
   "source": [
    "employee['filed_complaint'] = employee['filed_complaint'].fillna(0)\n",
    "employee['recently_promoted'] = employee['recently_promoted'].fillna(0)"
   ]
  },
  {
   "cell_type": "code",
   "execution_count": null,
   "metadata": {},
   "outputs": [],
   "source": []
  },
  {
   "cell_type": "markdown",
   "metadata": {},
   "source": [
    "#### **1.2.1 Identfication & Handling of Redundant Rows**"
   ]
  },
  {
   "cell_type": "markdown",
   "metadata": {},
   "source": [
    "**Before Handling Duplicate Rows**"
   ]
  },
  {
   "cell_type": "markdown",
   "metadata": {},
   "source": [
    "**Observation:**\n",
    "\n",
    "- We can see that **there are redundant records present** in the data."
   ]
  },
  {
   "cell_type": "markdown",
   "metadata": {},
   "source": [
    "**Performing Operations**"
   ]
  },
  {
   "cell_type": "code",
   "execution_count": null,
   "metadata": {},
   "outputs": [],
   "source": [
    "before_shape = employee.shape\n",
    "print('Data Shape [Before]:', before_shape)\n",
    "employee\n",
    "employee.drop_duplicates(inplace = True)\n",
    "\n",
    "after_shape = employee.shape\n",
    "print('Data Shape [After]:', after_shape)\n",
    "\n",
    "drop_nums = before_shape[0] - after_shape[0]\n",
    "drop_percent = np.round(drop_nums / before_shape[0], decimals = 2) * 100\n",
    "\n",
    "print('Drop Ratio:', drop_percent, '%')"
   ]
  },
  {
   "cell_type": "markdown",
   "metadata": {},
   "source": [
    "**After Handling Duplicate Rows**"
   ]
  },
  {
   "cell_type": "code",
   "execution_count": null,
   "metadata": {},
   "outputs": [],
   "source": [
    "print('Contains Redundant Records?:', employee.duplicated().any())\n",
    "print('Duplicate Count:', employee.duplicated().sum())"
   ]
  },
  {
   "cell_type": "markdown",
   "metadata": {},
   "source": [
    "#### Replace Missing Values"
   ]
  },
  {
   "cell_type": "code",
   "execution_count": null,
   "metadata": {},
   "outputs": [],
   "source": [
    "employee[['filed_complaint','recently_promoted']].isnull().sum()"
   ]
  },
  {
   "cell_type": "code",
   "execution_count": null,
   "metadata": {},
   "outputs": [],
   "source": [
    "employee.head()"
   ]
  },
  {
   "cell_type": "code",
   "execution_count": null,
   "metadata": {},
   "outputs": [],
   "source": [
    "num_feature = []\n",
    "\n",
    "for i in data.columns.values:\n",
    "  if ((data[i].dtype == int) | (data[i].dtype == float)):\n",
    "    num_feature.append(i)\n",
    "    \n",
    "print('Total Numerical Features:', len(num_feature))\n",
    "print('Features:', num_feature)"
   ]
  },
  {
   "cell_type": "markdown",
   "metadata": {},
   "source": [
    "#### **3.1.1 Null Data Identification & Handling**"
   ]
  },
  {
   "cell_type": "code",
   "execution_count": 34,
   "metadata": {},
   "outputs": [
    {
     "data": {
      "text/html": [
       "<div>\n",
       "<style scoped>\n",
       "    .dataframe tbody tr th:only-of-type {\n",
       "        vertical-align: middle;\n",
       "    }\n",
       "\n",
       "    .dataframe tbody tr th {\n",
       "        vertical-align: top;\n",
       "    }\n",
       "\n",
       "    .dataframe thead th {\n",
       "        text-align: right;\n",
       "    }\n",
       "</style>\n",
       "<table border=\"1\" class=\"dataframe\">\n",
       "  <thead>\n",
       "    <tr style=\"text-align: right;\">\n",
       "      <th></th>\n",
       "      <th>department</th>\n",
       "      <th>filed_complaint</th>\n",
       "      <th>last_evaluation</th>\n",
       "      <th>recently_promoted</th>\n",
       "      <th>satisfaction</th>\n",
       "      <th>tenure</th>\n",
       "    </tr>\n",
       "  </thead>\n",
       "  <tbody>\n",
       "    <tr>\n",
       "      <th>Null Count</th>\n",
       "      <td>707.0</td>\n",
       "      <td>12104.00</td>\n",
       "      <td>1487.00</td>\n",
       "      <td>13853.0</td>\n",
       "      <td>150.00</td>\n",
       "      <td>150.00</td>\n",
       "    </tr>\n",
       "    <tr>\n",
       "      <th>Missing %age</th>\n",
       "      <td>5.0</td>\n",
       "      <td>85.54</td>\n",
       "      <td>10.51</td>\n",
       "      <td>97.9</td>\n",
       "      <td>1.06</td>\n",
       "      <td>1.06</td>\n",
       "    </tr>\n",
       "  </tbody>\n",
       "</table>\n",
       "</div>"
      ],
      "text/plain": [
       "              department  filed_complaint  last_evaluation  recently_promoted  \\\n",
       "Null Count         707.0         12104.00          1487.00            13853.0   \n",
       "Missing %age         5.0            85.54            10.51               97.9   \n",
       "\n",
       "              satisfaction  tenure  \n",
       "Null Count          150.00  150.00  \n",
       "Missing %age          1.06    1.06  "
      ]
     },
     "execution_count": 34,
     "metadata": {},
     "output_type": "execute_result"
    }
   ],
   "source": [
    "null_frame = pd.DataFrame(index = employee.columns.values)\n",
    "null_frame['Null Count'] = employee.isnull().sum().values\n",
    "percent = employee.isnull().sum().values/employee.shape[0]\n",
    "null_frame['Missing %age'] = np.round(percent, decimals = 4) * 100\n",
    "null_frame[null_frame['Null Count']>0].transpose()"
   ]
  },
  {
   "cell_type": "markdown",
   "metadata": {},
   "source": [
    "**Before Handling Null Data**"
   ]
  },
  {
   "cell_type": "markdown",
   "metadata": {},
   "source": [
    "**Observation:**\n",
    "\n",
    "- **department**:\n",
    "  - Problem &rarr; Action Required\n",
    "- **filed_complaint**:\n",
    "  - Missing Information (12104) &rarr; Replace with 0.\n",
    "- **last_evaluation**:\n",
    "  - Missing Information (1487) &rarr; Replace with Median value.\n",
    "- **recently_promoted**:\n",
    "  - Missing Information (138523) &rarr; Replace with 0.\n",
    "- **satisfaction**:\n",
    "  - Missing Information (150) &rarr; Replace with Median.\n",
    "- **satisfaction**:\n",
    "  - Missing Information (150) &rarr; Replace with Median."
   ]
  },
  {
   "cell_type": "markdown",
   "metadata": {},
   "source": [
    "**Performing Operations**"
   ]
  }
 ],
 "metadata": {
  "kernelspec": {
   "display_name": "Python 3",
   "language": "python",
   "name": "python3"
  },
  "language_info": {
   "codemirror_mode": {
    "name": "ipython",
    "version": 3
   },
   "file_extension": ".py",
   "mimetype": "text/x-python",
   "name": "python",
   "nbconvert_exporter": "python",
   "pygments_lexer": "ipython3",
   "version": "3.7.6"
  }
 },
 "nbformat": 4,
 "nbformat_minor": 4
}
